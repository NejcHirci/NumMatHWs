{
 "cells": [
  {
   "cell_type": "markdown",
   "metadata": {},
   "source": [
    "# Omejen krožni problem treh teles\n",
    "\n",
    "V nalogi rešujemo problem premikanja sonde Appolo, ki je poslana iz Zemljine orbite na tir z vrnitvijo brez potiska, tako da obkroži Luno in se vrne nazaj v Zemljino orbito.\n",
    "\n",
    "Rešujemo sistem diferencialnih enačb v koordinatnem sistemu, kjer Zemlja in Luna mirujeta.\n",
    "\n",
    "Ozančimo z $M$ maso Zemlje in z $m$ maso Lune, enačbe gibanja zapišemo v vrtečem koordinatnem sistemu, kjer masi $M$ in $m$ mirujeta. Torej:\n",
    "\n",
    "$$\n",
    "\\mu = \\frac{m}{M+m} \\quad \\text{in} \\quad \\bar{\\mu} = \\frac{M}{M+m}\n",
    "$$\n",
    "\n",
    "Masa $M$ je v točki $(-\\mu, 0, 0)$, masa $m$ pa v točki $(1-\\mu, 0, 0)$. Oddaljenost sonde pa potem zapišemo z:\n",
    "\n",
    "$$\n",
    "R = R(x,y,z) = \\sqrt{(x + \\mu)^2 + y^2 + z^2} \\\\\n",
    "$$\n",
    "$$\n",
    "r = r(x,y,z) = \\sqrt{(x - 1 + \\mu)^2 + y^2 + z^2} \\\\\n",
    "$$\n",
    "\n",
    "Sistem diferencialnih enačb gibanja sonde je:\n",
    "$$\n",
    "\\begin{align*}\n",
    "\\ddot{x} &= x + 2\\dot{y} - \\frac{\\bar{\\mu}}{R^3}(x+\\mu) - \\frac{\\mu}{r^3}(x-\\bar{\\mu}) \\\\\n",
    "\\ddot{y} &= y - 2\\dot{x} - \\frac{\\bar{\\mu}}{R^3} y - \\frac{\\mu}{r^3} y \\\\\n",
    "\\ddot{z} &= -\\frac{\\bar{\\mu}}{R^3} z - \\frac{\\mu}{r^3} z \\\\\n",
    "\\end{align*}\n",
    "$$\n",
    "\n",
    "Najprej sistem enačb drugega reda prevedemo na sistem prvega reda.\n",
    "\n",
    "$$\n",
    "\\begin{align*}\n",
    "\\dot{x} &= v_x \\quad \\dot{y} = v_y \\quad \\dot{z} = v_z \\\\\n",
    "x &= v_x t + x_0 \\quad y = v_y t + y_0 \\quad z = v_z t + z_0 \\\\\n",
    "\\dot{v_x} &= x + 2v_y - \\frac{\\bar{\\mu}}{R^3}(x+\\mu) - \\frac{\\mu}{r^3}(x-\\bar{\\mu}) \\\\\n",
    "\\dot{v_y} &= x + 2v_y - \\frac{\\bar{\\mu}}{R^3}(x+\\mu) - \\frac{\\mu}{r^3}(x-\\bar{\\mu}) \\\\\n",
    "\\dot{v_z} &= y - 2v_x - \\frac{\\bar{\\mu}}{R^3} y - \\frac{\\mu}{r^3} y \\\\\n",
    "\\end{align*}\n",
    "$$"
   ]
  },
  {
   "cell_type": "code",
   "execution_count": 12,
   "metadata": {},
   "outputs": [],
   "source": [
    "# Dodajanje implementacije v Jupyter notebook\n",
    "include(\"../src/main.jl\");"
   ]
  },
  {
   "cell_type": "code",
   "execution_count": 9,
   "metadata": {},
   "outputs": [],
   "source": [
    "# Almost stable 2.75 0.1\n",
    "EarthRadius=6357.5*10^3\n",
    "EarthMass=5.972 * 10^24\n",
    "lowearthorbit = 185 * 10^3 + EarthRadius\n",
    "\n",
    "earthmoon=384400*10^3\n",
    "M_radius= 1737.4*10^3\n",
    "M_mass = 7.34767309 * 10^22\n",
    "\n",
    "injection_angle = 180.0 * pi/180\n",
    "inj_alt = (185 * 10^3 + lowearthorbit) / (EarthRadius + M_radius + earthmoon)\n",
    "pos0 = inj_alt * Vector([cos(injection_angle), sin(injection_angle), 0.0]) - Vector([mu, 0.0, 0.0])\n",
    "speed0 = 15.0\n",
    "v0 = speed0 * Vector([cos(injection_angle - pi/2.0), sin(injection_angle - pi/2.0), 0.0])\n",
    "\n",
    "# Stable orbit 6.0 -0.04\n",
    "x0 = Vector([\n",
    "    pos0[1], pos0[2], pos0[3],\n",
    "    v0[1], v0[2], v0[3]]);"
   ]
  },
  {
   "cell_type": "code",
   "execution_count": 13,
   "metadata": {},
   "outputs": [],
   "source": [
    "mass_earth = 5.974e24;\n",
    "mass_moon = 7.348e22;\n",
    "mu = mass_moon / (mass_earth + mass_moon);\n",
    "\n",
    "init_guess = [-mu-0.1, 0.0, 0.0, 0.0, 30.0, 0.0]\n",
    "best_cond = find_moon_flyby(init_guess, 1000, 10000, 1e-6)\n",
    "println(\"Best condition: \", best_cond)\n",
    "\n",
    "yn, tn = rocket_rk4(dF, best_cond, 0.0001, 100)\n",
    "ys = yn[:,2];\n",
    "xs = yn[:,1];\n",
    "println(\"Final position: \", ys[:, end])\n",
    "x_m = (1.0 - mu) * cos.(LinRange(0, 2*pi, 100))\n",
    "y_m = (1.0 - mu) * sin.(LinRange(0, 2*pi, 100))\n",
    "xlims = (minimum(xs)-0.1, maximum(xs)+0.1)\n",
    "scatter([-mu], [0.], label=\"Earth\", color=\"green\", ms=2)\n",
    "scatter!([1.0-mu], [0.], label=\"Moon\", color=\"red\", ms=1)\n",
    "plot!(x_m, y_m, label=\"Moon orbit\", color=\"blue\", lw=0.5)\n",
    "plot!(xs, ys, label=\"x-y\", xlabel=\"x\", ylabel=\"y\", title=\"Raketa\", lw=.7, color=\"black\", aspect_ratio=1.0, size=(800, 800))  \n"
   ]
  },
  {
   "cell_type": "code",
   "execution_count": null,
   "metadata": {},
   "outputs": [],
   "source": []
  }
 ],
 "metadata": {
  "kernelspec": {
   "display_name": "Julia 1.10.4",
   "language": "julia",
   "name": "julia-1.10"
  },
  "language_info": {
   "file_extension": ".jl",
   "mimetype": "application/julia",
   "name": "julia",
   "version": "1.10.4"
  }
 },
 "nbformat": 4,
 "nbformat_minor": 2
}
