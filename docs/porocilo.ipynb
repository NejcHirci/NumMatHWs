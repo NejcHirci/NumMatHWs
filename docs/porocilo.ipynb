{
 "cells": [
  {
   "cell_type": "markdown",
   "metadata": {},
   "source": [
    "# Omejen krožni problem treh teles\n",
    "\n",
    "V nalogi rešujemo problem premikanja sonde Appolo, ki je poslana iz Zemljine orbite na tir z vrnitvijo brez potiska, tako da obkroži Luno in se vrne nazaj v Zemljino orbito.\n",
    "\n",
    "Rešujemo sistem diferencialnih enačb v koordinatnem sistemu, kjer Zemlja in Luna mirujeta.\n",
    "\n",
    "Ozančimo z $M$ maso Zemlje in z $m$ maso Lune, enačbe gibanja zapišemo v vrtečem koordinatnem sistemu, kjer masi $M$ in $m$ mirujeta. Torej:\n",
    "\n",
    "$$\n",
    "\\mu = \\frac{m}{M+m} \\quad \\text{in} \\quad \\bar{\\mu} = \\frac{M}{M+m}\n",
    "$$\n",
    "\n",
    "Masa $M$ je v točki $(-\\mu, 0, 0)$, masa $m$ pa v točki $(1-\\mu, 0, 0)$. Oddaljenost sonde pa potem zapišemo z:\n",
    "\n",
    "$$\n",
    "R = R(x,y,z) = \\sqrt{(x + \\mu)^2 + y^2 + z^2} \\\\\n",
    "$$\n",
    "$$\n",
    "r = r(x,y,z) = \\sqrt{(x - 1 + \\mu)^2 + y^2 + z^2} \\\\\n",
    "$$\n",
    "\n",
    "Sistem diferencialnih enačb gibanja sonde je:\n",
    "$$\n",
    "\\begin{align*}\n",
    "\\ddot{x} &= x + 2\\dot{y} - \\frac{\\bar{\\mu}}{R^3}(x+\\mu) - \\frac{\\mu}{r^3}(x-\\bar{\\mu}) \\\\\n",
    "\\ddot{y} &= y - 2\\dot{x} - \\frac{\\bar{\\mu}}{R^3} y - \\frac{\\mu}{r^3} y \\\\\n",
    "\\ddot{z} &= -\\frac{\\bar{\\mu}}{R^3} z - \\frac{\\mu}{r^3} z \\\\\n",
    "\\end{align*}\n",
    "$$\n",
    "\n",
    "Najprej sistem enačb drugega reda prevedemo na sistem prvega reda.\n",
    "\n",
    "$$\n",
    "\\begin{align*}\n",
    "\\dot{x} &= v_x \\quad \\dot{y} = v_y \\quad \\dot{z} = v_z \\\\\n",
    "x &= v_x t + x_0 \\quad y = v_y t + y_0 \\quad z = v_z t + z_0 \\\\\n",
    "\\dot{v_x} &= x + 2v_y - \\frac{\\bar{\\mu}}{R^3}(x+\\mu) - \\frac{\\mu}{r^3}(x-\\bar{\\mu}) \\\\\n",
    "\\dot{v_y} &= x + 2v_y - \\frac{\\bar{\\mu}}{R^3}(x+\\mu) - \\frac{\\mu}{r^3}(x-\\bar{\\mu}) \\\\\n",
    "\\dot{v_z} &= y - 2v_x - \\frac{\\bar{\\mu}}{R^3} y - \\frac{\\mu}{r^3} y \\\\\n",
    "\\end{align*}\n",
    "$$"
   ]
  },
  {
   "cell_type": "code",
   "execution_count": 18,
   "metadata": {},
   "outputs": [],
   "source": [
    "# Dodajanje implementacije v Jupyter notebook\n",
    "include(\"../src/main.jl\");"
   ]
  },
  {
   "cell_type": "code",
   "execution_count": 20,
   "metadata": {},
   "outputs": [
    {
     "name": "stdout",
     "output_type": "stream",
     "text": [
      "Last position: [-2.4660547234137774e20, -4.494686104524408e19, 0.0, -1.3542090490080416e21, 2.4944050106392435e20, 0.0]\n"
     ]
    },
    {
     "ename": "BoundsError",
     "evalue": "BoundsError: attempt to access Float64 at index [2]",
     "output_type": "error",
     "traceback": [
      "BoundsError: attempt to access Float64 at index [2]\n",
      "\n",
      "Stacktrace:\n",
      " [1] getindex\n",
      "   @ .\\number.jl:98 [inlined]\n",
      " [2] #54\n",
      "   @ .\\none:0 [inlined]\n",
      " [3] iterate\n",
      "   @ .\\generator.jl:47 [inlined]\n",
      " [4] collect(itr::Base.Generator{Matrix{Float64}, var\"#54#56\"})\n",
      "   @ Base .\\array.jl:834\n",
      " [5] plot_2d(yn::Matrix{Float64}, tn::Matrix{Float64})\n",
      "   @ Main c:\\git\\NumMatHWs\\src\\main.jl:76\n",
      " [6] top-level scope\n",
      "   @ c:\\git\\NumMatHWs\\docs\\porocilo.ipynb:3"
     ]
    }
   ],
   "source": [
    "xn = Vector([1.,0.,0., 0., 0., 0.]);\n",
    "yn, tn = rk4(dF, xn, 0.05);\n",
    "println(yn)\n",
    "plot_2d(yn, tn)"
   ]
  }
 ],
 "metadata": {
  "kernelspec": {
   "display_name": "Julia 1.10.4",
   "language": "julia",
   "name": "julia-1.10"
  },
  "language_info": {
   "file_extension": ".jl",
   "mimetype": "application/julia",
   "name": "julia",
   "version": "1.10.4"
  }
 },
 "nbformat": 4,
 "nbformat_minor": 2
}
